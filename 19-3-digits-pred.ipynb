{
 "cells": [
  {
   "cell_type": "markdown",
   "metadata": {},
   "source": [
    "### 手持ち画像ファイルに対する予測を行うノートブック"
   ]
  },
  {
   "cell_type": "markdown",
   "metadata": {},
   "source": [
    "ライブラリのimport"
   ]
  },
  {
   "cell_type": "code",
   "execution_count": 1,
   "metadata": {},
   "outputs": [],
   "source": [
    "import os,glob\n",
    "from PIL import Image\n",
    "import numpy as np\n",
    "from tensorflow.keras.utils import to_categorical\n",
    "from tensorflow.keras.models import load_model\n",
    "\n",
    "import tensorflow as tf\n",
    "tf.compat.v1.logging.set_verbosity(tf.compat.v1.logging.ERROR)"
   ]
  },
  {
   "cell_type": "markdown",
   "metadata": {},
   "source": [
    "パラメータ設定（変更したらRunメニュー→Run Selected Cell and All Belowを忘れないこと）  "
   ]
  },
  {
   "cell_type": "code",
   "execution_count": 2,
   "metadata": {},
   "outputs": [],
   "source": [
    "w=28\n",
    "work_dir=\"data/digits\"\n",
    "image_dir=work_dir+\"/original/unknown\"\n",
    "pred_dir=work_dir+\"/predicted\"\n",
    "results_base='digits-results'\n",
    "model_file=\"digits-model-w{0}.hd5\".format(w)\n",
    "classes=list(range(10))\n",
    "num_classes=len(classes)"
   ]
  },
  {
   "cell_type": "markdown",
   "metadata": {},
   "source": [
    "modelファイルの読み込み"
   ]
  },
  {
   "cell_type": "code",
   "execution_count": 3,
   "metadata": {},
   "outputs": [],
   "source": [
    "model=load_model(model_file)"
   ]
  },
  {
   "cell_type": "markdown",
   "metadata": {},
   "source": [
    "ファイルひとつずつに対して予測を行う"
   ]
  },
  {
   "cell_type": "code",
   "execution_count": 4,
   "metadata": {},
   "outputs": [
    {
     "name": "stdout",
     "output_type": "stream",
     "text": [
      "data/digits/predicted/0.pred_as_0-w28.jpg [[4.0154094e-01 1.0779782e-03 2.8759891e-01 4.2153744e-05 4.6675853e-04\n",
      "  1.5133436e-04 2.9963094e-01 8.3491204e-06 8.8604270e-03 6.2218739e-04]]\n",
      "data/digits/predicted/1.pred_as_1-w28.jpg [[1.5506147e-03 4.8911226e-01 4.8165980e-01 2.1044064e-02 4.3311541e-04\n",
      "  1.4744317e-03 2.2875376e-03 1.1673775e-03 1.0973711e-03 1.7341807e-04]]\n",
      "data/digits/predicted/2.pred_as_2-w28.jpg [[1.92503503e-05 1.15965115e-04 9.99761999e-01 5.91436146e-05\n",
      "  5.18125262e-07 7.48890159e-08 1.97479849e-07 1.65480760e-05\n",
      "  2.61438217e-05 8.99160213e-08]]\n",
      "data/digits/predicted/3.pred_as_3-w28.jpg [[4.9984941e-05 7.7293557e-04 1.1451547e-02 9.7162724e-01 5.6157389e-04\n",
      "  8.3416043e-04 7.0043563e-07 1.3870473e-02 1.1390584e-04 7.1734114e-04]]\n",
      "data/digits/predicted/4.pred_as_4-w28.jpg [[2.59102080e-07 1.14159902e-05 3.82451191e-08 4.43009363e-08\n",
      "  9.99249279e-01 3.81813106e-06 2.59102992e-04 1.06984095e-04\n",
      "  1.08128133e-05 3.58199613e-04]]\n",
      "data/digits/predicted/5.pred_as_5-w28.jpg [[3.3571373e-04 2.0383253e-05 1.6966366e-04 1.3086877e-02 9.6729764e-06\n",
      "  9.8539215e-01 1.1045986e-04 2.2665842e-04 3.9510312e-04 2.5339745e-04]]\n",
      "data/digits/predicted/6.pred_as_6-w28.jpg [[1.0005065e-03 4.2054857e-04 2.2769911e-04 1.0675458e-05 2.4147690e-03\n",
      "  2.0036884e-02 9.7308427e-01 2.6043204e-05 2.6441738e-03 1.3442207e-04]]\n",
      "data/digits/predicted/7.pred_as_7-w28.jpg [[7.0662274e-05 1.7230988e-05 1.3920539e-03 1.1165586e-03 7.9977210e-05\n",
      "  7.7502482e-06 1.7200645e-09 9.9294150e-01 2.7031916e-05 4.3473030e-03]]\n",
      "data/digits/predicted/8.pred_as_3-w28.jpg [[1.4631951e-03 9.8567409e-04 7.3796697e-02 8.0772609e-01 2.3405233e-02\n",
      "  2.7850355e-04 2.0929310e-06 1.7112318e-02 1.8415673e-02 5.6814522e-02]]\n",
      "data/digits/predicted/9.pred_as_9-w28.jpg [[6.0900453e-05 2.2338815e-03 1.7364591e-05 1.4268768e-03 1.8191639e-01\n",
      "  2.8592741e-04 5.4317729e-06 8.3408311e-02 2.3441094e-03 7.2830081e-01]]\n",
      "OK\n"
     ]
    }
   ],
   "source": [
    "#結果保存用ファイルを開く\n",
    "results_file='{0}-w{1}.csv'.format(results_base,w)\n",
    "res=open(results_file,'w')\n",
    "res.write(\"file,{0},{1}\\n\".format(classes[0],classes[1]))\n",
    "\n",
    "#出力用ディレクトリを空にする\n",
    "files=glob.glob(pred_dir+\"/*.*\")\n",
    "for f in files:\n",
    "    os.remove(f)\n",
    "\n",
    "#ファイルひとつずつに対して予測\n",
    "files=glob.glob(image_dir+\"/*.*\")\n",
    "for f in files:\n",
    "    #画像データの読み込み\n",
    "    img=Image.open(f)\n",
    "    img=img.convert(\"L\")\n",
    "    img=img.resize((w,w))\n",
    "    #4次元のnumpy配列にreshape\n",
    "    X=np.array(img).reshape(1,w,w,1).astype(\"float16\")\n",
    "    X_pred=X/255\n",
    "    #分類予測\n",
    "    pred=model.predict(X_pred)\n",
    "    #画像をpred_dirに出力\n",
    "    pred_ans=pred.argmax()\n",
    "    pred_cls=classes[pred_ans]\n",
    "    tag=\"pred_as_{0}-w{1}\".format(pred_cls,w)\n",
    "    base=os.path.basename(f)\n",
    "    img_file=\"{0}/{1}.{2}.jpg\".format(pred_dir,os.path.splitext(base)[0],tag)\n",
    "    img.save(img_file)\n",
    "    print(img_file,pred)\n",
    "    res.write(\"{0},{1},{2}\\n\".format(f,pred[0][0],pred[0][1]))\n",
    "\n",
    "#結果保存用ファイルを閉じる\n",
    "res.close()\n",
    "\n",
    "print(\"OK\")"
   ]
  },
  {
   "cell_type": "code",
   "execution_count": null,
   "metadata": {},
   "outputs": [],
   "source": []
  }
 ],
 "metadata": {
  "kernelspec": {
   "display_name": "Python 3",
   "language": "python",
   "name": "python3"
  },
  "language_info": {
   "codemirror_mode": {
    "name": "ipython",
    "version": 3
   },
   "file_extension": ".py",
   "mimetype": "text/x-python",
   "name": "python",
   "nbconvert_exporter": "python",
   "pygments_lexer": "ipython3",
   "version": "3.7.4"
  }
 },
 "nbformat": 4,
 "nbformat_minor": 4
}
