{
 "cells": [
  {
   "cell_type": "markdown",
   "metadata": {},
   "source": [
    "### CNNの学習を行うノートブック"
   ]
  },
  {
   "cell_type": "markdown",
   "metadata": {},
   "source": [
    "ライブラリのimport"
   ]
  },
  {
   "cell_type": "code",
   "execution_count": 1,
   "metadata": {},
   "outputs": [],
   "source": [
    "import os\n",
    "import numpy as np\n",
    "import matplotlib.pyplot as plt\n",
    "from tensorflow.keras.models import Sequential\n",
    "from tensorflow.keras.layers import Conv2D,MaxPooling2D\n",
    "from tensorflow.keras.layers import Dropout,Flatten,Dense\n",
    "from tensorflow.keras.callbacks import EarlyStopping\n",
    "from tensorflow.keras.callbacks import CSVLogger\n",
    "from tensorflow.keras.utils import to_categorical\n",
    "from tensorflow.keras.datasets import mnist\n",
    "import tensorflow as tf\n",
    "tf.compat.v1.logging.set_verbosity(tf.compat.v1.logging.ERROR)"
   ]
  },
  {
   "cell_type": "markdown",
   "metadata": {},
   "source": []
  },
  {
   "cell_type": "code",
   "execution_count": 2,
   "metadata": {},
   "outputs": [],
   "source": [
    "w=28\n",
    "work_dir='data/digits'\n",
    "classes=list(range(10))\n",
    "num_classes=len(classes)\n",
    "\n",
    "model_file=\"digits-model-w{0}.hd5\".format(w)\n",
    "history_file=\"digits-history-w{0}.csv\".format(w)"
   ]
  },
  {
   "cell_type": "markdown",
   "metadata": {},
   "source": [
    "train/testデータのnumpy配列ファイルからの読み込みとサイズの確認<br> \n",
    "Xは0-1(データ型はfloat16)、yはone-hot encodingにする"
   ]
  },
  {
   "cell_type": "code",
   "execution_count": 9,
   "metadata": {},
   "outputs": [
    {
     "name": "stdout",
     "output_type": "stream",
     "text": [
      "(60000, 28, 28) (60000,)\n",
      "(10000, 28, 28) (10000,)\n",
      "(4000, 28, 28, 1)\n",
      "(4000, 10)\n",
      "(800, 28, 28, 1)\n",
      "(800, 10)\n",
      "image_size: 28 28\n",
      "image_channels: 1\n"
     ]
    }
   ],
   "source": [
    "n_train=4000\n",
    "n_test=800\n",
    "(X_train_full,y_train_full),(X_test_full,y_test_full)=mnist.load_data()\n",
    "print(X_train_full.shape,y_train_full.shape)\n",
    "print(X_test_full.shape,y_test_full.shape)\n",
    "\n",
    "mode=\"train\"\n",
    "X_train=X_train_full[:n_train].astype('float16').reshape(-1,w,w,1)\n",
    "X_train/=255\n",
    "y_train=y_train_full[:n_train]\n",
    "y_train=to_categorical(y_train,num_classes)\n",
    "\n",
    "mode=\"test\"\n",
    "X_test=X_test_full[:n_test].astype('float16').reshape(-1,w,w,1)\n",
    "X_test/=255\n",
    "y_test=y_test_full[:n_test]\n",
    "y_test=to_categorical(y_test,num_classes)\n",
    "\n",
    "print( X_train.shape )\n",
    "print( y_train.shape )\n",
    "print( X_test.shape )\n",
    "print( y_test.shape )\n",
    "img_rows=X_train.shape[1]\n",
    "img_cols=X_train.shape[2]\n",
    "img_channels=X_train.shape[3]\n",
    "print(\"image_size:\", img_rows, img_cols)\n",
    "print(\"image_channels:\", img_channels)"
   ]
  },
  {
   "cell_type": "markdown",
   "metadata": {},
   "source": [
    "CNNの構築"
   ]
  },
  {
   "cell_type": "code",
   "execution_count": 10,
   "metadata": {},
   "outputs": [
    {
     "name": "stdout",
     "output_type": "stream",
     "text": [
      "Model: \"sequential\"\n",
      "_________________________________________________________________\n",
      "Layer (type)                 Output Shape              Param #   \n",
      "=================================================================\n",
      "conv2d (Conv2D)              (None, 28, 28, 16)        160       \n",
      "_________________________________________________________________\n",
      "max_pooling2d (MaxPooling2D) (None, 14, 14, 16)        0         \n",
      "_________________________________________________________________\n",
      "dropout (Dropout)            (None, 14, 14, 16)        0         \n",
      "_________________________________________________________________\n",
      "conv2d_1 (Conv2D)            (None, 14, 14, 16)        2320      \n",
      "_________________________________________________________________\n",
      "max_pooling2d_1 (MaxPooling2 (None, 7, 7, 16)          0         \n",
      "_________________________________________________________________\n",
      "dropout_1 (Dropout)          (None, 7, 7, 16)          0         \n",
      "_________________________________________________________________\n",
      "conv2d_2 (Conv2D)            (None, 7, 7, 32)          4640      \n",
      "_________________________________________________________________\n",
      "max_pooling2d_2 (MaxPooling2 (None, 3, 3, 32)          0         \n",
      "_________________________________________________________________\n",
      "dropout_2 (Dropout)          (None, 3, 3, 32)          0         \n",
      "_________________________________________________________________\n",
      "flatten (Flatten)            (None, 288)               0         \n",
      "_________________________________________________________________\n",
      "dense (Dense)                (None, 64)                18496     \n",
      "_________________________________________________________________\n",
      "dropout_3 (Dropout)          (None, 64)                0         \n",
      "_________________________________________________________________\n",
      "dense_1 (Dense)              (None, 10)                650       \n",
      "=================================================================\n",
      "Total params: 26,266\n",
      "Trainable params: 26,266\n",
      "Non-trainable params: 0\n",
      "_________________________________________________________________\n"
     ]
    }
   ],
   "source": [
    "input_shape=(img_rows,img_cols,img_channels)\n",
    "model=Sequential()\n",
    "model.add(Conv2D(16, (3,3), activation='relu', padding='same',\n",
    "                 input_shape=input_shape))\n",
    "model.add(MaxPooling2D(pool_size=(2,2)))\n",
    "model.add(Dropout(0.25))\n",
    "model.add(Conv2D(16, (3,3), activation='relu', padding='same'))\n",
    "model.add(MaxPooling2D(pool_size=(2,2)))\n",
    "model.add(Dropout(0.25))\n",
    "model.add(Conv2D(32, (3,3), activation='relu', padding='same'))\n",
    "model.add(MaxPooling2D(pool_size=(2,2)))\n",
    "model.add(Dropout(0.25))\n",
    "model.add(Flatten())\n",
    "model.add(Dense(64, activation='relu'))\n",
    "model.add(Dropout(0.25))\n",
    "model.add(Dense(num_classes, activation='softmax'))\n",
    "model.summary()"
   ]
  },
  {
   "cell_type": "markdown",
   "metadata": {},
   "source": [
    "CNNの学習"
   ]
  },
  {
   "cell_type": "code",
   "execution_count": 11,
   "metadata": {},
   "outputs": [
    {
     "name": "stdout",
     "output_type": "stream",
     "text": [
      "Train on 3200 samples, validate on 800 samples\n",
      "Epoch 1/40\n",
      "3200/3200 [==============================] - 3s 907us/sample - loss: 2.1972 - acc: 0.2231 - val_loss: 1.8726 - val_acc: 0.5337\n",
      "Epoch 2/40\n",
      "3200/3200 [==============================] - 2s 510us/sample - loss: 1.6344 - acc: 0.4681 - val_loss: 1.1180 - val_acc: 0.6737\n",
      "Epoch 3/40\n",
      "3200/3200 [==============================] - 2s 486us/sample - loss: 1.2262 - acc: 0.6016 - val_loss: 0.7483 - val_acc: 0.7950\n",
      "Epoch 4/40\n",
      "3200/3200 [==============================] - 2s 483us/sample - loss: 0.9281 - acc: 0.6909 - val_loss: 0.5673 - val_acc: 0.8487\n",
      "Epoch 5/40\n",
      "3200/3200 [==============================] - 2s 494us/sample - loss: 0.7656 - acc: 0.7541 - val_loss: 0.4379 - val_acc: 0.8788\n",
      "Epoch 6/40\n",
      "3200/3200 [==============================] - 2s 492us/sample - loss: 0.6405 - acc: 0.7969 - val_loss: 0.3668 - val_acc: 0.8950\n",
      "Epoch 7/40\n",
      "3200/3200 [==============================] - 2s 514us/sample - loss: 0.5490 - acc: 0.8297 - val_loss: 0.3065 - val_acc: 0.9100\n",
      "Epoch 8/40\n",
      "3200/3200 [==============================] - 2s 480us/sample - loss: 0.4863 - acc: 0.8494 - val_loss: 0.2834 - val_acc: 0.9175\n",
      "Epoch 9/40\n",
      "3200/3200 [==============================] - 2s 488us/sample - loss: 0.4257 - acc: 0.8719 - val_loss: 0.2402 - val_acc: 0.9287\n",
      "Epoch 10/40\n",
      "3200/3200 [==============================] - 2s 475us/sample - loss: 0.4047 - acc: 0.8678 - val_loss: 0.2309 - val_acc: 0.9325\n",
      "Epoch 11/40\n",
      "3200/3200 [==============================] - 2s 475us/sample - loss: 0.3848 - acc: 0.8809 - val_loss: 0.1952 - val_acc: 0.9438\n",
      "Epoch 12/40\n",
      "3200/3200 [==============================] - 2s 472us/sample - loss: 0.3553 - acc: 0.8881 - val_loss: 0.1885 - val_acc: 0.9425\n",
      "Epoch 13/40\n",
      "3200/3200 [==============================] - 2s 485us/sample - loss: 0.3308 - acc: 0.8938 - val_loss: 0.1846 - val_acc: 0.9413\n",
      "Epoch 14/40\n",
      "3200/3200 [==============================] - 2s 479us/sample - loss: 0.3060 - acc: 0.9016 - val_loss: 0.1867 - val_acc: 0.9287\n",
      "Epoch 15/40\n",
      "3200/3200 [==============================] - 2s 469us/sample - loss: 0.3076 - acc: 0.9053 - val_loss: 0.1687 - val_acc: 0.9525\n",
      "Epoch 16/40\n",
      "3200/3200 [==============================] - 2s 474us/sample - loss: 0.2808 - acc: 0.9191 - val_loss: 0.1546 - val_acc: 0.9488\n",
      "Epoch 17/40\n",
      "3200/3200 [==============================] - 2s 480us/sample - loss: 0.2618 - acc: 0.9197 - val_loss: 0.1446 - val_acc: 0.9538\n",
      "Epoch 18/40\n",
      "3200/3200 [==============================] - 2s 530us/sample - loss: 0.2551 - acc: 0.9234 - val_loss: 0.1404 - val_acc: 0.9500\n",
      "Epoch 19/40\n",
      "3200/3200 [==============================] - 2s 501us/sample - loss: 0.2476 - acc: 0.9206 - val_loss: 0.1410 - val_acc: 0.9550\n",
      "Epoch 20/40\n",
      "3200/3200 [==============================] - 2s 500us/sample - loss: 0.2356 - acc: 0.9287 - val_loss: 0.1444 - val_acc: 0.9550\n",
      "Epoch 21/40\n",
      "3200/3200 [==============================] - 2s 491us/sample - loss: 0.2302 - acc: 0.9309 - val_loss: 0.1374 - val_acc: 0.9538\n",
      "Epoch 22/40\n",
      "3200/3200 [==============================] - 2s 469us/sample - loss: 0.2212 - acc: 0.9362 - val_loss: 0.1250 - val_acc: 0.9575\n",
      "Epoch 23/40\n",
      "3200/3200 [==============================] - 1s 459us/sample - loss: 0.2086 - acc: 0.9322 - val_loss: 0.1340 - val_acc: 0.9538\n",
      "Epoch 24/40\n",
      "3200/3200 [==============================] - 2s 474us/sample - loss: 0.2059 - acc: 0.9359 - val_loss: 0.1314 - val_acc: 0.9600\n",
      "Epoch 25/40\n",
      "3200/3200 [==============================] - 2s 493us/sample - loss: 0.1751 - acc: 0.9463 - val_loss: 0.1246 - val_acc: 0.9588\n",
      "Epoch 26/40\n",
      "3200/3200 [==============================] - 2s 481us/sample - loss: 0.1733 - acc: 0.9466 - val_loss: 0.1131 - val_acc: 0.9600\n",
      "Epoch 27/40\n",
      "3200/3200 [==============================] - 2s 485us/sample - loss: 0.1812 - acc: 0.9419 - val_loss: 0.1056 - val_acc: 0.9638\n",
      "Epoch 28/40\n",
      "3200/3200 [==============================] - 1s 468us/sample - loss: 0.1676 - acc: 0.9497 - val_loss: 0.1116 - val_acc: 0.9588\n",
      "Epoch 29/40\n",
      "3200/3200 [==============================] - 2s 502us/sample - loss: 0.1789 - acc: 0.9463 - val_loss: 0.1050 - val_acc: 0.9675\n",
      "Epoch 30/40\n",
      "3200/3200 [==============================] - 2s 478us/sample - loss: 0.1611 - acc: 0.9497 - val_loss: 0.1034 - val_acc: 0.9700\n",
      "Epoch 31/40\n",
      "3200/3200 [==============================] - 2s 495us/sample - loss: 0.1550 - acc: 0.9503 - val_loss: 0.1093 - val_acc: 0.9638\n",
      "Epoch 32/40\n",
      "3200/3200 [==============================] - 2s 485us/sample - loss: 0.1453 - acc: 0.9550 - val_loss: 0.1041 - val_acc: 0.9688\n",
      "Epoch 33/40\n",
      "3200/3200 [==============================] - 2s 516us/sample - loss: 0.1584 - acc: 0.9513 - val_loss: 0.1064 - val_acc: 0.9688\n",
      "Epoch 34/40\n",
      "3200/3200 [==============================] - 2s 495us/sample - loss: 0.1636 - acc: 0.9450 - val_loss: 0.1005 - val_acc: 0.9650\n",
      "Epoch 35/40\n",
      "3200/3200 [==============================] - 2s 489us/sample - loss: 0.1399 - acc: 0.9578 - val_loss: 0.0990 - val_acc: 0.9712\n",
      "Epoch 36/40\n",
      "3200/3200 [==============================] - 2s 516us/sample - loss: 0.1609 - acc: 0.9497 - val_loss: 0.0985 - val_acc: 0.9650\n",
      "Epoch 37/40\n",
      "3200/3200 [==============================] - 2s 547us/sample - loss: 0.1273 - acc: 0.9591 - val_loss: 0.0982 - val_acc: 0.9638\n",
      "Epoch 38/40\n",
      "3200/3200 [==============================] - 2s 526us/sample - loss: 0.1293 - acc: 0.9597 - val_loss: 0.0967 - val_acc: 0.9688\n",
      "Epoch 39/40\n",
      "3200/3200 [==============================] - 2s 548us/sample - loss: 0.1270 - acc: 0.9584 - val_loss: 0.1101 - val_acc: 0.9613\n",
      "Epoch 40/40\n",
      "3200/3200 [==============================] - 2s 521us/sample - loss: 0.1244 - acc: 0.9644 - val_loss: 0.1052 - val_acc: 0.9650\n",
      "Wall time: 1min 6s\n"
     ]
    }
   ],
   "source": [
    "%%time\n",
    "n_epochs=40\n",
    "val_split=0.2\n",
    "batch_size=128\n",
    "model.compile(loss='categorical_crossentropy', optimizer='rmsprop',\n",
    "              metrics=['accuracy'])\n",
    "cl=CSVLogger(history_file)\n",
    "#fit_log=model.fit(X_train, y_train, batch_size=batch_size,\n",
    "#                  epochs=n_epochs, validation_split=val_split,\n",
    "#                  callbacks=[cl])\n",
    "#if you want to use early stopping, uncomment the following lines\n",
    "es=EarlyStopping(monitor='val_loss',patience=7,verbose=1)\n",
    "fit_log=model.fit(X_train, y_train, batch_size=batch_size,\n",
    "                  epochs=n_epochs, validation_split=val_split,\n",
    "                  callbacks=[cl, es])"
   ]
  },
  {
   "cell_type": "markdown",
   "metadata": {},
   "source": [
    "学習経過のグラフ描画"
   ]
  },
  {
   "cell_type": "code",
   "execution_count": 12,
   "metadata": {},
   "outputs": [
    {
     "data": {
      "image/png": "[encoded data removed]",
      "text/plain": [
       "<Figure size 432x288 with 1 Axes>"
      ]
     },
     "metadata": {
      "needs_background": "light"
     },
     "output_type": "display_data"
    },
    {
     "data": {
      "image/png": "[encoded data removed]",
      "text/plain": [
       "<Figure size 432x288 with 1 Axes>"
      ]
     },
     "metadata": {
      "needs_background": "light"
     },
     "output_type": "display_data"
    }
   ],
   "source": [
    "plt.plot(fit_log.history['loss'])\n",
    "plt.plot(fit_log.history['val_loss'])\n",
    "plt.title('Model Loss')\n",
    "plt.ylabel('Loss')\n",
    "plt.xlabel('Epoch')\n",
    "plt.legend(['train','valid'], loc='best')\n",
    "plt.show()\n",
    "\n",
    "plt.plot(fit_log.history['acc'])\n",
    "plt.plot(fit_log.history['val_acc'])\n",
    "plt.title('Model Accuracy')\n",
    "plt.ylabel('Accuracy')\n",
    "plt.xlabel('Epoch')\n",
    "plt.legend(['train','valid'], loc='best')\n",
    "plt.show()"
   ]
  },
  {
   "cell_type": "markdown",
   "metadata": {},
   "source": [
    "学習経過のグラフ描画（このようにhistory_fileから読み出すこともできる）"
   ]
  },
  {
   "cell_type": "code",
   "execution_count": 13,
   "metadata": {},
   "outputs": [
    {
     "data": {
      "image/png": "[encoded data removed]",
      "text/plain": [
       "<Figure size 432x288 with 1 Axes>"
      ]
     },
     "metadata": {
      "needs_background": "light"
     },
     "output_type": "display_data"
    },
    {
     "data": {
      "image/png": "[encoded data removed]",
      "text/plain": [
       "<Figure size 432x288 with 1 Axes>"
      ]
     },
     "metadata": {
      "needs_background": "light"
     },
     "output_type": "display_data"
    }
   ],
   "source": [
    "h=np.loadtxt(history_file,delimiter=',',skiprows=1)\n",
    "epoch=h[:,0]\n",
    "acc=h[:,1]\n",
    "loss=h[:,2]\n",
    "val_acc=h[:,3]\n",
    "val_loss=h[:,4]\n",
    "\n",
    "plt.plot(epoch,loss)\n",
    "plt.plot(epoch,val_loss)\n",
    "plt.title('Model Loss')\n",
    "plt.ylabel('Loss')\n",
    "plt.xlabel('Epoch')\n",
    "plt.legend(['train','valid'], loc='best')\n",
    "plt.show()\n",
    "\n",
    "plt.plot(epoch,acc)\n",
    "plt.plot(epoch,val_acc)\n",
    "plt.title('Model Accuracy')\n",
    "plt.ylabel('Accuracy')\n",
    "plt.xlabel('Epoch')\n",
    "plt.legend(['train','valid'], loc='best')\n",
    "plt.show()"
   ]
  },
  {
   "cell_type": "markdown",
   "metadata": {},
   "source": [
    "テストデータに対する精度(汎化性能の見積もり)"
   ]
  },
  {
   "cell_type": "code",
   "execution_count": 14,
   "metadata": {},
   "outputs": [
    {
     "name": "stdout",
     "output_type": "stream",
     "text": [
      "loss= 0.08452638551592827\n",
      "accuracy= 0.96875\n"
     ]
    }
   ],
   "source": [
    "score=model.evaluate(X_test, y_test, verbose=0)\n",
    "print('loss=', score[0])\n",
    "print('accuracy=', score[1])"
   ]
  },
  {
   "cell_type": "markdown",
   "metadata": {},
   "source": [
    "modelファイルの保存"
   ]
  },
  {
   "cell_type": "code",
   "execution_count": 15,
   "metadata": {},
   "outputs": [],
   "source": [
    "model.save(model_file)"
   ]
  },
  {
   "cell_type": "code",
   "execution_count": null,
   "metadata": {},
   "outputs": [],
   "source": []
  }
 ],
 "metadata": {
  "kernelspec": {
   "display_name": "Python 3",
   "language": "python",
   "name": "python3"
  },
  "language_info": {
   "codemirror_mode": {
    "name": "ipython",
    "version": 3
   },
   "file_extension": ".py",
   "mimetype": "text/x-python",
   "name": "python",
   "nbconvert_exporter": "python",
   "pygments_lexer": "ipython3",
   "version": "3.7.4"
  }
 },
 "nbformat": 4,
 "nbformat_minor": 4
}
